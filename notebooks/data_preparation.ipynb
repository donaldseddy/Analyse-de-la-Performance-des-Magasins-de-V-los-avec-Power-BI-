{
 "cells": [
  {
   "cell_type": "markdown",
   "id": "69e78ed7",
   "metadata": {},
   "source": [
    "## Bibliotheques"
   ]
  },
  {
   "cell_type": "code",
   "execution_count": 104,
   "id": "4d1a6c4b",
   "metadata": {},
   "outputs": [],
   "source": [
    "import  pandas as pd"
   ]
  },
  {
   "cell_type": "markdown",
   "id": "23193ab6",
   "metadata": {},
   "source": [
    "## Dataframes"
   ]
  },
  {
   "cell_type": "markdown",
   "id": "fd2e9462",
   "metadata": {},
   "source": [
    "### brand"
   ]
  },
  {
   "cell_type": "code",
   "execution_count": 105,
   "id": "ab26511e",
   "metadata": {},
   "outputs": [],
   "source": [
    "brand = pd.read_csv('..//data//raw_data//brands.csv')\n",
    "\n",
    "#copy ligne 1 en ligne 2\n",
    "brand.loc[1] = brand.loc[0]\n",
    "#copy entete en ligne 1\n",
    "brand.loc[0] = brand.columns\n",
    "#remplacer entete par \" \"\n",
    "brand.columns = [\" \"]*len(brand.columns)\n",
    "brand=brand.transpose()\n",
    "brand.columns = brand.iloc[0]\n",
    "brand=brand[1:]\n",
    "brand.reset_index(drop=True, inplace=True)\n",
    "brand['brand_name'] = brand['brand_name'].astype('string')\n",
    "brand['brand_id'] = brand['brand_id'].astype(int)\n",
    "brand.to_csv('..//data//cleaned_data//brands_clean.csv', index=False)"
   ]
  },
  {
   "cell_type": "markdown",
   "id": "77d95804",
   "metadata": {},
   "source": [
    "### categories"
   ]
  },
  {
   "cell_type": "code",
   "execution_count": 106,
   "id": "b129bd08",
   "metadata": {},
   "outputs": [],
   "source": [
    "category = pd.read_csv('..//data//raw_data//categories.csv')\n",
    "category.columns = category.iloc[0]\n",
    "category=category[1:]\n",
    "category.reset_index(drop=True, inplace=True)\n",
    "category['category_name'] = category['category_name'].astype('string')\n",
    "category['category_id'] = category['category_id'].astype(int)\n",
    "category.to_csv('..//data//cleaned_data//categories_clean.csv', index=False)\n"
   ]
  }
 ],
 "metadata": {
  "kernelspec": {
   "display_name": ".venv",
   "language": "python",
   "name": "python3"
  },
  "language_info": {
   "codemirror_mode": {
    "name": "ipython",
    "version": 3
   },
   "file_extension": ".py",
   "mimetype": "text/x-python",
   "name": "python",
   "nbconvert_exporter": "python",
   "pygments_lexer": "ipython3",
   "version": "3.12.3"
  }
 },
 "nbformat": 4,
 "nbformat_minor": 5
}
