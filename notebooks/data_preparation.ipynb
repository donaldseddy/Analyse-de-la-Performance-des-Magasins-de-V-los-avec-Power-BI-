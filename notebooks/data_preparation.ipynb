{
 "cells": [
  {
   "cell_type": "markdown",
   "id": "69e78ed7",
   "metadata": {},
   "source": [
    "## Bibliotheques"
   ]
  },
  {
   "cell_type": "code",
   "execution_count": 104,
   "id": "4d1a6c4b",
   "metadata": {},
   "outputs": [],
   "source": [
    "import  pandas as pd"
   ]
  },
  {
   "cell_type": "markdown",
   "id": "23193ab6",
   "metadata": {},
   "source": [
    "## Dataframes"
   ]
  },
  {
   "cell_type": "markdown",
   "id": "fd2e9462",
   "metadata": {},
   "source": [
    "### brand"
   ]
  },
  {
   "cell_type": "code",
   "execution_count": 105,
   "id": "ab26511e",
   "metadata": {},
   "outputs": [],
   "source": [
    "brand = pd.read_csv('..//data//raw_data//brands.csv')\n",
    "\n",
    "#copy ligne 1 en ligne 2\n",
    "brand.loc[1] = brand.loc[0]\n",
    "#copy entete en ligne 1\n",
    "brand.loc[0] = brand.columns\n",
    "#remplacer entete par \" \"\n",
    "brand.columns = [\" \"]*len(brand.columns)\n",
    "brand=brand.transpose()\n",
    "brand.columns = brand.iloc[0]\n",
    "brand=brand[1:]\n",
    "brand.reset_index(drop=True, inplace=True)\n",
    "brand['brand_name'] = brand['brand_name'].astype('string')\n",
    "brand['brand_id'] = brand['brand_id'].astype(int)\n",
    "brand.to_csv('..//data//cleaned_data//brands_clean.csv', index=False)"
   ]
  },
  {
   "cell_type": "markdown",
   "id": "77d95804",
   "metadata": {},
   "source": [
    "### categories"
   ]
  },
  {
   "cell_type": "code",
   "execution_count": 110,
   "id": "b129bd08",
   "metadata": {},
   "outputs": [],
   "source": [
    "category = pd.read_csv('..//data//raw_data//categories.csv')\n",
    "category.columns = category.iloc[0]\n",
    "category=category[1:]\n",
    "category.reset_index(drop=True, inplace=True)\n",
    "category['category_name'] = category['category_name'].astype('string')\n",
    "category['category_id'] = category['category_id'].astype(int)\n",
    "category.to_csv('..//data//cleaned_data//categories_clean.csv', index=False)\n"
   ]
  },
  {
   "cell_type": "markdown",
   "id": "5a6e7f56",
   "metadata": {},
   "source": [
    "### customers"
   ]
  },
  {
   "cell_type": "code",
   "execution_count": 122,
   "id": "1b651a97",
   "metadata": {},
   "outputs": [
    {
     "name": "stdout",
     "output_type": "stream",
     "text": [
      "<class 'pandas.core.frame.DataFrame'>\n",
      "RangeIndex: 1445 entries, 0 to 1444\n",
      "Data columns (total 9 columns):\n",
      " #   Column       Non-Null Count  Dtype \n",
      "---  ------       --------------  ----- \n",
      " 0   customer_id  1445 non-null   int64 \n",
      " 1   first_name   1445 non-null   string\n",
      " 2   last_name    1445 non-null   string\n",
      " 3   phone        178 non-null    string\n",
      " 4   email        1445 non-null   string\n",
      " 5   street       1445 non-null   string\n",
      " 6   city         1445 non-null   string\n",
      " 7   state        1445 non-null   string\n",
      " 8   zip_code     1445 non-null   int64 \n",
      "dtypes: int64(2), string(7)\n",
      "memory usage: 101.7 KB\n"
     ]
    }
   ],
   "source": [
    "customer = pd.read_csv('..//data//raw_data//customers.csv')\n",
    "#changerv le type de first_name en string , last_name en string, phone en int, email en string, street en string, city en string, state en string, country en string, zip_code en int\n",
    "customer['first_name'] = customer['first_name'].astype('string')\n",
    "customer['last_name'] = customer['last_name'].astype('string')  \n",
    "customer['phone'] = customer['phone'].astype('string')\n",
    "customer['email'] = customer['email'].astype('string')\n",
    "customer['street'] = customer['street'].astype('string')\n",
    "customer['city'] = customer['city'].astype('string')\n",
    "customer['state'] = customer['state'].astype('string')\n",
    "customer['zip_code'] = customer['zip_code'].astype(int)\n",
    "customer = customer.drop_duplicates(keep='first')\n",
    "customer.to_csv('..//data//cleaned_data//customers_clean.csv', index=False)\n",
    "customer.info()"
   ]
  },
  {
   "cell_type": "markdown",
   "id": "10b39181",
   "metadata": {},
   "source": [
    "### order_items"
   ]
  },
  {
   "cell_type": "code",
   "execution_count": 121,
   "id": "cc722ab4",
   "metadata": {},
   "outputs": [
    {
     "name": "stdout",
     "output_type": "stream",
     "text": [
      "<class 'pandas.core.frame.DataFrame'>\n",
      "RangeIndex: 4691 entries, 0 to 4690\n",
      "Data columns (total 6 columns):\n",
      " #   Column      Non-Null Count  Dtype  \n",
      "---  ------      --------------  -----  \n",
      " 0   order_id    4691 non-null   int64  \n",
      " 1   item_id     4691 non-null   int64  \n",
      " 2   product_id  4691 non-null   int64  \n",
      " 3   quantity    4691 non-null   int64  \n",
      " 4   list_price  4691 non-null   float64\n",
      " 5   discount    4691 non-null   float64\n",
      "dtypes: float64(2), int64(4)\n",
      "memory usage: 220.0 KB\n"
     ]
    }
   ],
   "source": [
    "order_item = pd.read_csv('..//data//raw_data//order_items.csv')\n",
    "order_item.info()"
   ]
  }
 ],
 "metadata": {
  "kernelspec": {
   "display_name": ".venv",
   "language": "python",
   "name": "python3"
  },
  "language_info": {
   "codemirror_mode": {
    "name": "ipython",
    "version": 3
   },
   "file_extension": ".py",
   "mimetype": "text/x-python",
   "name": "python",
   "nbconvert_exporter": "python",
   "pygments_lexer": "ipython3",
   "version": "3.12.3"
  }
 },
 "nbformat": 4,
 "nbformat_minor": 5
}
