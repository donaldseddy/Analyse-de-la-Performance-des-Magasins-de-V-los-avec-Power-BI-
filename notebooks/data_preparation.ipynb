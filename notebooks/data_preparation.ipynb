{
 "cells": [
  {
   "cell_type": "markdown",
   "id": "69e78ed7",
   "metadata": {},
   "source": [
    "## Bibliotheques"
   ]
  },
  {
   "cell_type": "code",
   "execution_count": 104,
   "id": "4d1a6c4b",
   "metadata": {},
   "outputs": [],
   "source": [
    "import  pandas as pd"
   ]
  },
  {
   "cell_type": "markdown",
   "id": "23193ab6",
   "metadata": {},
   "source": [
    "## Dataframes"
   ]
  },
  {
   "cell_type": "markdown",
   "id": "fd2e9462",
   "metadata": {},
   "source": [
    "### brand"
   ]
  },
  {
   "cell_type": "code",
   "execution_count": 105,
   "id": "ab26511e",
   "metadata": {},
   "outputs": [],
   "source": [
    "brand = pd.read_csv('..//data//raw_data//brands.csv')\n",
    "\n",
    "#copy ligne 1 en ligne 2\n",
    "brand.loc[1] = brand.loc[0]\n",
    "#copy entete en ligne 1\n",
    "brand.loc[0] = brand.columns\n",
    "#remplacer entete par \" \"\n",
    "brand.columns = [\" \"]*len(brand.columns)\n",
    "brand=brand.transpose()\n",
    "brand.columns = brand.iloc[0]\n",
    "brand=brand[1:]\n",
    "brand.reset_index(drop=True, inplace=True)\n",
    "brand['brand_name'] = brand['brand_name'].astype('string')\n",
    "brand['brand_id'] = brand['brand_id'].astype(int)\n",
    "brand.to_csv('..//data//cleaned_data//brands_clean.csv', index=False)"
   ]
  },
  {
   "cell_type": "markdown",
   "id": "77d95804",
   "metadata": {},
   "source": [
    "### categories"
   ]
  },
  {
   "cell_type": "code",
   "execution_count": 110,
   "id": "b129bd08",
   "metadata": {},
   "outputs": [],
   "source": [
    "category = pd.read_csv('..//data//raw_data//categories.csv')\n",
    "category.columns = category.iloc[0]\n",
    "category=category[1:]\n",
    "category.reset_index(drop=True, inplace=True)\n",
    "category['category_name'] = category['category_name'].astype('string')\n",
    "category['category_id'] = category['category_id'].astype(int)\n",
    "category.to_csv('..//data//cleaned_data//categories_clean.csv', index=False)\n"
   ]
  },
  {
   "cell_type": "markdown",
   "id": "5a6e7f56",
   "metadata": {},
   "source": [
    "### customers"
   ]
  },
  {
   "cell_type": "code",
   "execution_count": 122,
   "id": "1b651a97",
   "metadata": {},
   "outputs": [
    {
     "name": "stdout",
     "output_type": "stream",
     "text": [
      "<class 'pandas.core.frame.DataFrame'>\n",
      "RangeIndex: 1445 entries, 0 to 1444\n",
      "Data columns (total 9 columns):\n",
      " #   Column       Non-Null Count  Dtype \n",
      "---  ------       --------------  ----- \n",
      " 0   customer_id  1445 non-null   int64 \n",
      " 1   first_name   1445 non-null   string\n",
      " 2   last_name    1445 non-null   string\n",
      " 3   phone        178 non-null    string\n",
      " 4   email        1445 non-null   string\n",
      " 5   street       1445 non-null   string\n",
      " 6   city         1445 non-null   string\n",
      " 7   state        1445 non-null   string\n",
      " 8   zip_code     1445 non-null   int64 \n",
      "dtypes: int64(2), string(7)\n",
      "memory usage: 101.7 KB\n"
     ]
    }
   ],
   "source": [
    "customer = pd.read_csv('..//data//raw_data//customers.csv')\n",
    "#changerv le type de first_name en string , last_name en string, phone en int, email en string, street en string, city en string, state en string, country en string, zip_code en int\n",
    "customer['first_name'] = customer['first_name'].astype('string')\n",
    "customer['last_name'] = customer['last_name'].astype('string')  \n",
    "customer['phone'] = customer['phone'].astype('string')\n",
    "customer['email'] = customer['email'].astype('string')\n",
    "customer['street'] = customer['street'].astype('string')\n",
    "customer['city'] = customer['city'].astype('string')\n",
    "customer['state'] = customer['state'].astype('string')\n",
    "customer['zip_code'] = customer['zip_code'].astype(int)\n",
    "customer = customer.drop_duplicates(keep='first')\n",
    "customer.to_csv('..//data//cleaned_data//customers_clean.csv', index=False)\n",
    "customer.info()"
   ]
  },
  {
   "cell_type": "markdown",
   "id": "10b39181",
   "metadata": {},
   "source": [
    "### order_items"
   ]
  },
  {
   "cell_type": "code",
   "execution_count": 127,
   "id": "cc722ab4",
   "metadata": {},
   "outputs": [],
   "source": [
    "order_item = pd.read_csv('..//data//raw_data//order_items.csv')\n",
    "order_item = order_item.drop_duplicates(keep='first')\n",
    "order_item.to_csv('..//data//cleaned_data//order_items_clean.csv', index=False)"
   ]
  },
  {
   "cell_type": "markdown",
   "id": "7319e0fc",
   "metadata": {},
   "source": [
    "### orders"
   ]
  },
  {
   "cell_type": "code",
   "execution_count": 130,
   "id": "8fdac7a0",
   "metadata": {},
   "outputs": [],
   "source": [
    "order = pd.read_csv('..//data//raw_data//orders.csv')\n",
    "order['order_id'] = order['order_id'].astype(int)\n",
    "order['customer_id'] = order['customer_id'].astype(int)\n",
    "order['order_date'] = pd.to_datetime(order['order_date'])\n",
    "order['required_date'] = pd.to_datetime(order['required_date'])\n",
    "order['shipped_date'] = pd.to_datetime(order['shipped_date'])\n",
    "order['order_status'] = order['order_status'].astype(int)\n",
    "order = order.drop_duplicates(keep='first')\n",
    "order.to_csv('..//data//cleaned_data//orders_clean.csv', index=False)"
   ]
  },
  {
   "cell_type": "markdown",
   "id": "05c6a8c4",
   "metadata": {},
   "source": [
    "### products"
   ]
  },
  {
   "cell_type": "code",
   "execution_count": 159,
   "id": "eaea523d",
   "metadata": {},
   "outputs": [],
   "source": [
    "product = pd.read_csv('..//data//raw_data//products.csv')\n",
    "product['product_name'] = product['product_name'].astype('string')\n",
    "product['product_id'] = product['product_id'].astype(int)\n",
    "product['model_year'] = pd.to_datetime(product['model_year'], format='%Y')\n",
    "product['model_year'] = product['model_year'].dt.year\n",
    "product.drop_duplicates(keep='first', inplace=True)\n",
    "product.to_csv('..//data//cleaned_data//products_clean.csv', index=False)"
   ]
  },
  {
   "cell_type": "markdown",
   "id": "73f49a4b",
   "metadata": {},
   "source": [
    "### staffs"
   ]
  },
  {
   "cell_type": "code",
   "execution_count": 142,
   "id": "954fca8c",
   "metadata": {},
   "outputs": [],
   "source": [
    "staff = pd.read_csv('..//data//raw_data//staffs.csv')\n",
    "#changer le type de first_name en string , last_name en string, phone en int de 10 chiffres, email en string, active en boollean, manager_id en int\n",
    "staff['first_name'] = staff['first_name'].astype('string')\n",
    "staff['last_name'] = staff['last_name'].astype('string')\n",
    "staff['phone'] = staff['phone'].astype('string')\n",
    "staff['email'] = staff['email'].astype('string')\n",
    "staff['active'] = staff['active'].astype(bool)\n",
    "staff['manager_id'] = staff['manager_id'].fillna(0).astype(int)\n",
    "staff.drop_duplicates(keep='first', inplace=True)\n",
    "staff.to_csv('..//data//cleaned_data//staffs_clean.csv', index=False)"
   ]
  },
  {
   "cell_type": "markdown",
   "id": "6f6ec323",
   "metadata": {},
   "source": [
    "### stocks"
   ]
  },
  {
   "cell_type": "code",
   "execution_count": 144,
   "id": "6c9e67d5",
   "metadata": {},
   "outputs": [],
   "source": [
    "stock = pd.read_csv('..//data//raw_data//stocks.csv')\n",
    "stock.to_csv('..//data//cleaned_data//stocks_clean.csv', index=False)"
   ]
  },
  {
   "cell_type": "markdown",
   "id": "1e3cd0ad",
   "metadata": {},
   "source": [
    "### stores"
   ]
  },
  {
   "cell_type": "code",
   "execution_count": 158,
   "id": "a68bc21a",
   "metadata": {},
   "outputs": [],
   "source": [
    "store = pd.read_csv('..//data//raw_data//stores.csv')\n",
    "store['store_name'] = store['store_name'].astype('string')\n",
    "store['phone'] = store['phone'].astype('string')\n",
    "store['email'] = store['email'].astype('string')\n",
    "#fratctionner le city_state_zip_code  en 5 colonnes zip_code_street, street, city, state, zip_code avec delimiteur \"_\"\n",
    "store[['zip_code_street','street', 'city', 'state', 'zip_code']] = store['city_state_zip_code'].str.split('_',n=4, expand=True)\n",
    "store = store.drop(columns=['city_state_zip_code'])\n",
    "store['zip_code_street'] = store['zip_code_street'].astype(int)\n",
    "store['street'] = store['street'].astype('string')\n",
    "store['city'] = store['city'].astype('string')\n",
    "store['state'] = store['state'].astype('string')\n",
    "store['zip_code'] = store['zip_code'].astype(int)\n",
    "store.drop_duplicates(keep='first', inplace=True)\n",
    "store.to_csv('..//data//cleaned_data//stores_clean.csv', index=False)"
   ]
  }
 ],
 "metadata": {
  "kernelspec": {
   "display_name": ".venv",
   "language": "python",
   "name": "python3"
  },
  "language_info": {
   "codemirror_mode": {
    "name": "ipython",
    "version": 3
   },
   "file_extension": ".py",
   "mimetype": "text/x-python",
   "name": "python",
   "nbconvert_exporter": "python",
   "pygments_lexer": "ipython3",
   "version": "3.12.3"
  }
 },
 "nbformat": 4,
 "nbformat_minor": 5
}
